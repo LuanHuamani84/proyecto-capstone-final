{
  "nbformat": 4,
  "nbformat_minor": 0,
  "metadata": {
    "colab": {
      "name": "Untitled11.ipynb",
      "provenance": [],
      "collapsed_sections": [],
      "authorship_tag": "ABX9TyPHc1Kd3Q8zQ5salsjtto/7",
      "include_colab_link": true
    },
    "kernelspec": {
      "name": "python3",
      "display_name": "Python 3"
    },
    "language_info": {
      "name": "python"
    }
  },
  "cells": [
    {
      "cell_type": "markdown",
      "metadata": {
        "id": "view-in-github",
        "colab_type": "text"
      },
      "source": [
        "<a href=\"https://colab.research.google.com/github/LuanHuamani84/proyecto-capstone-final/blob/main/Untitled11.ipynb\" target=\"_parent\"><img src=\"https://colab.research.google.com/assets/colab-badge.svg\" alt=\"Open In Colab\"/></a>"
      ]
    },
    {
      "cell_type": "code",
      "execution_count": null,
      "metadata": {
        "id": "44Lb8iYRYyrS"
      },
      "outputs": [],
      "source": [
        "from sklearn.metrics import r2_score\n",
        "from sklearn import linear_model\n",
        "import pandas as pd\n",
        "import numpy as np\n",
        "import datetime\n",
        "from datetime import timedelta\n",
        "import seaborn as sns\n",
        "from seaborn import load_dataset\n",
        "import matplotlib.pyplot as plt\n",
        "import matplotlib.ticker as ticker\n",
        "from sklearn import preprocessing\n",
        "%matplotlib inline"
      ]
    },
    {
      "cell_type": "code",
      "source": [
        "df = pd.read_excel('/content/ARCHIVO TRABAJO FINAL CAPSTONE.xlsx')"
      ],
      "metadata": {
        "id": "CrtBPlULZJDd"
      },
      "execution_count": null,
      "outputs": []
    },
    {
      "cell_type": "code",
      "source": [
        "df.dtypes"
      ],
      "metadata": {
        "colab": {
          "base_uri": "https://localhost:8080/"
        },
        "id": "7KRGrtf9Z6YT",
        "outputId": "a764541f-00a4-4c95-8cfd-368f096e4872"
      },
      "execution_count": null,
      "outputs": [
        {
          "output_type": "execute_result",
          "data": {
            "text/plain": [
              "Mes                                        datetime64[ns]\n",
              "Cartera atrasada %                                float64\n",
              "Creditos directos (en miles de soles)             float64\n",
              "Creditos Atrasados ( en miles de soles)           float64\n",
              "N° Deudores                                         int64\n",
              "Tipo de cambio contable                           float64\n",
              "IPC                                               float64\n",
              "TAMN (%)                                          float64\n",
              "dtype: object"
            ]
          },
          "metadata": {},
          "execution_count": 3
        }
      ]
    },
    {
      "cell_type": "code",
      "source": [
        "df.info()"
      ],
      "metadata": {
        "colab": {
          "base_uri": "https://localhost:8080/"
        },
        "id": "dUrap_imZ_hP",
        "outputId": "af35ec4e-3420-416e-f1af-bbc5826d504a"
      },
      "execution_count": null,
      "outputs": [
        {
          "output_type": "stream",
          "name": "stdout",
          "text": [
            "<class 'pandas.core.frame.DataFrame'>\n",
            "RangeIndex: 60 entries, 0 to 59\n",
            "Data columns (total 8 columns):\n",
            " #   Column                                   Non-Null Count  Dtype         \n",
            "---  ------                                   --------------  -----         \n",
            " 0   Mes                                      60 non-null     datetime64[ns]\n",
            " 1   Cartera atrasada %                       60 non-null     float64       \n",
            " 2   Creditos directos (en miles de soles)    60 non-null     float64       \n",
            " 3   Creditos Atrasados ( en miles de soles)  60 non-null     float64       \n",
            " 4   N° Deudores                              60 non-null     int64         \n",
            " 5   Tipo de cambio contable                  60 non-null     float64       \n",
            " 6   IPC                                      60 non-null     float64       \n",
            " 7   TAMN (%)                                 60 non-null     float64       \n",
            "dtypes: datetime64[ns](1), float64(6), int64(1)\n",
            "memory usage: 3.9 KB\n"
          ]
        }
      ]
    },
    {
      "cell_type": "code",
      "source": [
        "df.shape"
      ],
      "metadata": {
        "colab": {
          "base_uri": "https://localhost:8080/"
        },
        "id": "9Sraz2qHaVMn",
        "outputId": "2385bbb8-3f2d-4ccf-9719-c18104bc09a1"
      },
      "execution_count": null,
      "outputs": [
        {
          "output_type": "execute_result",
          "data": {
            "text/plain": [
              "(60, 8)"
            ]
          },
          "metadata": {},
          "execution_count": 5
        }
      ]
    },
    {
      "cell_type": "code",
      "source": [
        "#Primeras 5 filas del DF\n",
        "df.head()"
      ],
      "metadata": {
        "colab": {
          "base_uri": "https://localhost:8080/",
          "height": 354
        },
        "id": "zkVUumf7adxt",
        "outputId": "e85c5f94-44b3-4e9d-cbc6-65e2f6533efa"
      },
      "execution_count": null,
      "outputs": [
        {
          "output_type": "execute_result",
          "data": {
            "text/plain": [
              "         Mes  Cartera atrasada %  Creditos directos (en miles de soles)  \\\n",
              "0 2016-01-31            3.007696                           2.551862e+08   \n",
              "1 2016-02-29            3.074234                           2.566469e+08   \n",
              "2 2016-03-31            3.078675                           2.545001e+08   \n",
              "3 2016-04-30            3.133153                           2.552712e+08   \n",
              "4 2016-05-31            3.236347                           2.567675e+08   \n",
              "\n",
              "   Creditos Atrasados ( en miles de soles)  N° Deudores  \\\n",
              "0                               7675225.94      6229267   \n",
              "1                               7889925.46      6323478   \n",
              "2                               7835230.37      6218158   \n",
              "3                               7998037.33      6252687   \n",
              "4                               8309887.17      6263044   \n",
              "\n",
              "   Tipo de cambio contable         IPC   TAMN (%)  \n",
              "0                    3.470  122.229583  16.235806  \n",
              "1                    3.524  122.442374  16.129310  \n",
              "2                    3.326  123.174724  16.054839  \n",
              "3                    3.273  123.188774  15.987333  \n",
              "4                    3.372  123.446933  16.020000  "
            ],
            "text/html": [
              "\n",
              "  <div id=\"df-d65ff61a-0d6b-4701-8889-4e096fc7d9f4\">\n",
              "    <div class=\"colab-df-container\">\n",
              "      <div>\n",
              "<style scoped>\n",
              "    .dataframe tbody tr th:only-of-type {\n",
              "        vertical-align: middle;\n",
              "    }\n",
              "\n",
              "    .dataframe tbody tr th {\n",
              "        vertical-align: top;\n",
              "    }\n",
              "\n",
              "    .dataframe thead th {\n",
              "        text-align: right;\n",
              "    }\n",
              "</style>\n",
              "<table border=\"1\" class=\"dataframe\">\n",
              "  <thead>\n",
              "    <tr style=\"text-align: right;\">\n",
              "      <th></th>\n",
              "      <th>Mes</th>\n",
              "      <th>Cartera atrasada %</th>\n",
              "      <th>Creditos directos (en miles de soles)</th>\n",
              "      <th>Creditos Atrasados ( en miles de soles)</th>\n",
              "      <th>N° Deudores</th>\n",
              "      <th>Tipo de cambio contable</th>\n",
              "      <th>IPC</th>\n",
              "      <th>TAMN (%)</th>\n",
              "    </tr>\n",
              "  </thead>\n",
              "  <tbody>\n",
              "    <tr>\n",
              "      <th>0</th>\n",
              "      <td>2016-01-31</td>\n",
              "      <td>3.007696</td>\n",
              "      <td>2.551862e+08</td>\n",
              "      <td>7675225.94</td>\n",
              "      <td>6229267</td>\n",
              "      <td>3.470</td>\n",
              "      <td>122.229583</td>\n",
              "      <td>16.235806</td>\n",
              "    </tr>\n",
              "    <tr>\n",
              "      <th>1</th>\n",
              "      <td>2016-02-29</td>\n",
              "      <td>3.074234</td>\n",
              "      <td>2.566469e+08</td>\n",
              "      <td>7889925.46</td>\n",
              "      <td>6323478</td>\n",
              "      <td>3.524</td>\n",
              "      <td>122.442374</td>\n",
              "      <td>16.129310</td>\n",
              "    </tr>\n",
              "    <tr>\n",
              "      <th>2</th>\n",
              "      <td>2016-03-31</td>\n",
              "      <td>3.078675</td>\n",
              "      <td>2.545001e+08</td>\n",
              "      <td>7835230.37</td>\n",
              "      <td>6218158</td>\n",
              "      <td>3.326</td>\n",
              "      <td>123.174724</td>\n",
              "      <td>16.054839</td>\n",
              "    </tr>\n",
              "    <tr>\n",
              "      <th>3</th>\n",
              "      <td>2016-04-30</td>\n",
              "      <td>3.133153</td>\n",
              "      <td>2.552712e+08</td>\n",
              "      <td>7998037.33</td>\n",
              "      <td>6252687</td>\n",
              "      <td>3.273</td>\n",
              "      <td>123.188774</td>\n",
              "      <td>15.987333</td>\n",
              "    </tr>\n",
              "    <tr>\n",
              "      <th>4</th>\n",
              "      <td>2016-05-31</td>\n",
              "      <td>3.236347</td>\n",
              "      <td>2.567675e+08</td>\n",
              "      <td>8309887.17</td>\n",
              "      <td>6263044</td>\n",
              "      <td>3.372</td>\n",
              "      <td>123.446933</td>\n",
              "      <td>16.020000</td>\n",
              "    </tr>\n",
              "  </tbody>\n",
              "</table>\n",
              "</div>\n",
              "      <button class=\"colab-df-convert\" onclick=\"convertToInteractive('df-d65ff61a-0d6b-4701-8889-4e096fc7d9f4')\"\n",
              "              title=\"Convert this dataframe to an interactive table.\"\n",
              "              style=\"display:none;\">\n",
              "        \n",
              "  <svg xmlns=\"http://www.w3.org/2000/svg\" height=\"24px\"viewBox=\"0 0 24 24\"\n",
              "       width=\"24px\">\n",
              "    <path d=\"M0 0h24v24H0V0z\" fill=\"none\"/>\n",
              "    <path d=\"M18.56 5.44l.94 2.06.94-2.06 2.06-.94-2.06-.94-.94-2.06-.94 2.06-2.06.94zm-11 1L8.5 8.5l.94-2.06 2.06-.94-2.06-.94L8.5 2.5l-.94 2.06-2.06.94zm10 10l.94 2.06.94-2.06 2.06-.94-2.06-.94-.94-2.06-.94 2.06-2.06.94z\"/><path d=\"M17.41 7.96l-1.37-1.37c-.4-.4-.92-.59-1.43-.59-.52 0-1.04.2-1.43.59L10.3 9.45l-7.72 7.72c-.78.78-.78 2.05 0 2.83L4 21.41c.39.39.9.59 1.41.59.51 0 1.02-.2 1.41-.59l7.78-7.78 2.81-2.81c.8-.78.8-2.07 0-2.86zM5.41 20L4 18.59l7.72-7.72 1.47 1.35L5.41 20z\"/>\n",
              "  </svg>\n",
              "      </button>\n",
              "      \n",
              "  <style>\n",
              "    .colab-df-container {\n",
              "      display:flex;\n",
              "      flex-wrap:wrap;\n",
              "      gap: 12px;\n",
              "    }\n",
              "\n",
              "    .colab-df-convert {\n",
              "      background-color: #E8F0FE;\n",
              "      border: none;\n",
              "      border-radius: 50%;\n",
              "      cursor: pointer;\n",
              "      display: none;\n",
              "      fill: #1967D2;\n",
              "      height: 32px;\n",
              "      padding: 0 0 0 0;\n",
              "      width: 32px;\n",
              "    }\n",
              "\n",
              "    .colab-df-convert:hover {\n",
              "      background-color: #E2EBFA;\n",
              "      box-shadow: 0px 1px 2px rgba(60, 64, 67, 0.3), 0px 1px 3px 1px rgba(60, 64, 67, 0.15);\n",
              "      fill: #174EA6;\n",
              "    }\n",
              "\n",
              "    [theme=dark] .colab-df-convert {\n",
              "      background-color: #3B4455;\n",
              "      fill: #D2E3FC;\n",
              "    }\n",
              "\n",
              "    [theme=dark] .colab-df-convert:hover {\n",
              "      background-color: #434B5C;\n",
              "      box-shadow: 0px 1px 3px 1px rgba(0, 0, 0, 0.15);\n",
              "      filter: drop-shadow(0px 1px 2px rgba(0, 0, 0, 0.3));\n",
              "      fill: #FFFFFF;\n",
              "    }\n",
              "  </style>\n",
              "\n",
              "      <script>\n",
              "        const buttonEl =\n",
              "          document.querySelector('#df-d65ff61a-0d6b-4701-8889-4e096fc7d9f4 button.colab-df-convert');\n",
              "        buttonEl.style.display =\n",
              "          google.colab.kernel.accessAllowed ? 'block' : 'none';\n",
              "\n",
              "        async function convertToInteractive(key) {\n",
              "          const element = document.querySelector('#df-d65ff61a-0d6b-4701-8889-4e096fc7d9f4');\n",
              "          const dataTable =\n",
              "            await google.colab.kernel.invokeFunction('convertToInteractive',\n",
              "                                                     [key], {});\n",
              "          if (!dataTable) return;\n",
              "\n",
              "          const docLinkHtml = 'Like what you see? Visit the ' +\n",
              "            '<a target=\"_blank\" href=https://colab.research.google.com/notebooks/data_table.ipynb>data table notebook</a>'\n",
              "            + ' to learn more about interactive tables.';\n",
              "          element.innerHTML = '';\n",
              "          dataTable['output_type'] = 'display_data';\n",
              "          await google.colab.output.renderOutput(dataTable, element);\n",
              "          const docLink = document.createElement('div');\n",
              "          docLink.innerHTML = docLinkHtml;\n",
              "          element.appendChild(docLink);\n",
              "        }\n",
              "      </script>\n",
              "    </div>\n",
              "  </div>\n",
              "  "
            ]
          },
          "metadata": {},
          "execution_count": 6
        }
      ]
    },
    {
      "cell_type": "code",
      "source": [
        "#Ultimas 10 filas del DF\n",
        "df.tail(10)"
      ],
      "metadata": {
        "colab": {
          "base_uri": "https://localhost:8080/",
          "height": 598
        },
        "id": "5ZUQR1wvamBe",
        "outputId": "033d66f7-e924-4ae6-8002-bd02a6e90acf"
      },
      "execution_count": null,
      "outputs": [
        {
          "output_type": "execute_result",
          "data": {
            "text/plain": [
              "          Mes  Cartera atrasada %  Creditos directos (en miles de soles)  \\\n",
              "50 2020-03-31            3.553518                           3.374247e+08   \n",
              "51 2020-04-30            3.760795                           3.377630e+08   \n",
              "52 2020-05-31            3.465256                           3.587809e+08   \n",
              "53 2020-06-01            3.422179                           3.624858e+08   \n",
              "54 2020-07-31            3.379102                           3.661907e+08   \n",
              "55 2020-08-31            3.455270                           3.696712e+08   \n",
              "56 2020-09-30            3.664206                           3.699195e+08   \n",
              "57 2020-10-31            3.882239                           3.715931e+08   \n",
              "58 2020-11-30            4.045742                           3.716349e+08   \n",
              "59 2020-12-31            4.185808                           3.707614e+08   \n",
              "\n",
              "    Creditos Atrasados ( en miles de soles)  N° Deudores  \\\n",
              "50                              11990446.01      7579127   \n",
              "51                              12702573.44      7534824   \n",
              "52                              12432674.80      7402463   \n",
              "53                              12403315.24      7318167   \n",
              "54                              12373955.68      7233871   \n",
              "55                              12773138.26      7175480   \n",
              "56                              13554614.55      7173134   \n",
              "57                              14426130.69      7186957   \n",
              "58                              15035387.71      7234932   \n",
              "59                              15519360.05      7233252   \n",
              "\n",
              "    Tipo de cambio contable         IPC   TAMN (%)  \n",
              "50                    3.437  133.818519  14.055484  \n",
              "51                    3.379  133.958470  13.364333  \n",
              "52                    3.432  134.231951  12.782258  \n",
              "53                    3.479  133.874764  12.444333  \n",
              "54                    3.526  134.494187  12.288710  \n",
              "55                    3.544  134.345922  12.343548  \n",
              "56                    3.597  134.529108  12.442333  \n",
              "57                    3.613  134.551676  12.498387  \n",
              "58                    3.607  135.251990  12.373667  \n",
              "59                    3.621  135.317902  12.100968  "
            ],
            "text/html": [
              "\n",
              "  <div id=\"df-1147c942-844e-4edf-b548-4039db110d9a\">\n",
              "    <div class=\"colab-df-container\">\n",
              "      <div>\n",
              "<style scoped>\n",
              "    .dataframe tbody tr th:only-of-type {\n",
              "        vertical-align: middle;\n",
              "    }\n",
              "\n",
              "    .dataframe tbody tr th {\n",
              "        vertical-align: top;\n",
              "    }\n",
              "\n",
              "    .dataframe thead th {\n",
              "        text-align: right;\n",
              "    }\n",
              "</style>\n",
              "<table border=\"1\" class=\"dataframe\">\n",
              "  <thead>\n",
              "    <tr style=\"text-align: right;\">\n",
              "      <th></th>\n",
              "      <th>Mes</th>\n",
              "      <th>Cartera atrasada %</th>\n",
              "      <th>Creditos directos (en miles de soles)</th>\n",
              "      <th>Creditos Atrasados ( en miles de soles)</th>\n",
              "      <th>N° Deudores</th>\n",
              "      <th>Tipo de cambio contable</th>\n",
              "      <th>IPC</th>\n",
              "      <th>TAMN (%)</th>\n",
              "    </tr>\n",
              "  </thead>\n",
              "  <tbody>\n",
              "    <tr>\n",
              "      <th>50</th>\n",
              "      <td>2020-03-31</td>\n",
              "      <td>3.553518</td>\n",
              "      <td>3.374247e+08</td>\n",
              "      <td>11990446.01</td>\n",
              "      <td>7579127</td>\n",
              "      <td>3.437</td>\n",
              "      <td>133.818519</td>\n",
              "      <td>14.055484</td>\n",
              "    </tr>\n",
              "    <tr>\n",
              "      <th>51</th>\n",
              "      <td>2020-04-30</td>\n",
              "      <td>3.760795</td>\n",
              "      <td>3.377630e+08</td>\n",
              "      <td>12702573.44</td>\n",
              "      <td>7534824</td>\n",
              "      <td>3.379</td>\n",
              "      <td>133.958470</td>\n",
              "      <td>13.364333</td>\n",
              "    </tr>\n",
              "    <tr>\n",
              "      <th>52</th>\n",
              "      <td>2020-05-31</td>\n",
              "      <td>3.465256</td>\n",
              "      <td>3.587809e+08</td>\n",
              "      <td>12432674.80</td>\n",
              "      <td>7402463</td>\n",
              "      <td>3.432</td>\n",
              "      <td>134.231951</td>\n",
              "      <td>12.782258</td>\n",
              "    </tr>\n",
              "    <tr>\n",
              "      <th>53</th>\n",
              "      <td>2020-06-01</td>\n",
              "      <td>3.422179</td>\n",
              "      <td>3.624858e+08</td>\n",
              "      <td>12403315.24</td>\n",
              "      <td>7318167</td>\n",
              "      <td>3.479</td>\n",
              "      <td>133.874764</td>\n",
              "      <td>12.444333</td>\n",
              "    </tr>\n",
              "    <tr>\n",
              "      <th>54</th>\n",
              "      <td>2020-07-31</td>\n",
              "      <td>3.379102</td>\n",
              "      <td>3.661907e+08</td>\n",
              "      <td>12373955.68</td>\n",
              "      <td>7233871</td>\n",
              "      <td>3.526</td>\n",
              "      <td>134.494187</td>\n",
              "      <td>12.288710</td>\n",
              "    </tr>\n",
              "    <tr>\n",
              "      <th>55</th>\n",
              "      <td>2020-08-31</td>\n",
              "      <td>3.455270</td>\n",
              "      <td>3.696712e+08</td>\n",
              "      <td>12773138.26</td>\n",
              "      <td>7175480</td>\n",
              "      <td>3.544</td>\n",
              "      <td>134.345922</td>\n",
              "      <td>12.343548</td>\n",
              "    </tr>\n",
              "    <tr>\n",
              "      <th>56</th>\n",
              "      <td>2020-09-30</td>\n",
              "      <td>3.664206</td>\n",
              "      <td>3.699195e+08</td>\n",
              "      <td>13554614.55</td>\n",
              "      <td>7173134</td>\n",
              "      <td>3.597</td>\n",
              "      <td>134.529108</td>\n",
              "      <td>12.442333</td>\n",
              "    </tr>\n",
              "    <tr>\n",
              "      <th>57</th>\n",
              "      <td>2020-10-31</td>\n",
              "      <td>3.882239</td>\n",
              "      <td>3.715931e+08</td>\n",
              "      <td>14426130.69</td>\n",
              "      <td>7186957</td>\n",
              "      <td>3.613</td>\n",
              "      <td>134.551676</td>\n",
              "      <td>12.498387</td>\n",
              "    </tr>\n",
              "    <tr>\n",
              "      <th>58</th>\n",
              "      <td>2020-11-30</td>\n",
              "      <td>4.045742</td>\n",
              "      <td>3.716349e+08</td>\n",
              "      <td>15035387.71</td>\n",
              "      <td>7234932</td>\n",
              "      <td>3.607</td>\n",
              "      <td>135.251990</td>\n",
              "      <td>12.373667</td>\n",
              "    </tr>\n",
              "    <tr>\n",
              "      <th>59</th>\n",
              "      <td>2020-12-31</td>\n",
              "      <td>4.185808</td>\n",
              "      <td>3.707614e+08</td>\n",
              "      <td>15519360.05</td>\n",
              "      <td>7233252</td>\n",
              "      <td>3.621</td>\n",
              "      <td>135.317902</td>\n",
              "      <td>12.100968</td>\n",
              "    </tr>\n",
              "  </tbody>\n",
              "</table>\n",
              "</div>\n",
              "      <button class=\"colab-df-convert\" onclick=\"convertToInteractive('df-1147c942-844e-4edf-b548-4039db110d9a')\"\n",
              "              title=\"Convert this dataframe to an interactive table.\"\n",
              "              style=\"display:none;\">\n",
              "        \n",
              "  <svg xmlns=\"http://www.w3.org/2000/svg\" height=\"24px\"viewBox=\"0 0 24 24\"\n",
              "       width=\"24px\">\n",
              "    <path d=\"M0 0h24v24H0V0z\" fill=\"none\"/>\n",
              "    <path d=\"M18.56 5.44l.94 2.06.94-2.06 2.06-.94-2.06-.94-.94-2.06-.94 2.06-2.06.94zm-11 1L8.5 8.5l.94-2.06 2.06-.94-2.06-.94L8.5 2.5l-.94 2.06-2.06.94zm10 10l.94 2.06.94-2.06 2.06-.94-2.06-.94-.94-2.06-.94 2.06-2.06.94z\"/><path d=\"M17.41 7.96l-1.37-1.37c-.4-.4-.92-.59-1.43-.59-.52 0-1.04.2-1.43.59L10.3 9.45l-7.72 7.72c-.78.78-.78 2.05 0 2.83L4 21.41c.39.39.9.59 1.41.59.51 0 1.02-.2 1.41-.59l7.78-7.78 2.81-2.81c.8-.78.8-2.07 0-2.86zM5.41 20L4 18.59l7.72-7.72 1.47 1.35L5.41 20z\"/>\n",
              "  </svg>\n",
              "      </button>\n",
              "      \n",
              "  <style>\n",
              "    .colab-df-container {\n",
              "      display:flex;\n",
              "      flex-wrap:wrap;\n",
              "      gap: 12px;\n",
              "    }\n",
              "\n",
              "    .colab-df-convert {\n",
              "      background-color: #E8F0FE;\n",
              "      border: none;\n",
              "      border-radius: 50%;\n",
              "      cursor: pointer;\n",
              "      display: none;\n",
              "      fill: #1967D2;\n",
              "      height: 32px;\n",
              "      padding: 0 0 0 0;\n",
              "      width: 32px;\n",
              "    }\n",
              "\n",
              "    .colab-df-convert:hover {\n",
              "      background-color: #E2EBFA;\n",
              "      box-shadow: 0px 1px 2px rgba(60, 64, 67, 0.3), 0px 1px 3px 1px rgba(60, 64, 67, 0.15);\n",
              "      fill: #174EA6;\n",
              "    }\n",
              "\n",
              "    [theme=dark] .colab-df-convert {\n",
              "      background-color: #3B4455;\n",
              "      fill: #D2E3FC;\n",
              "    }\n",
              "\n",
              "    [theme=dark] .colab-df-convert:hover {\n",
              "      background-color: #434B5C;\n",
              "      box-shadow: 0px 1px 3px 1px rgba(0, 0, 0, 0.15);\n",
              "      filter: drop-shadow(0px 1px 2px rgba(0, 0, 0, 0.3));\n",
              "      fill: #FFFFFF;\n",
              "    }\n",
              "  </style>\n",
              "\n",
              "      <script>\n",
              "        const buttonEl =\n",
              "          document.querySelector('#df-1147c942-844e-4edf-b548-4039db110d9a button.colab-df-convert');\n",
              "        buttonEl.style.display =\n",
              "          google.colab.kernel.accessAllowed ? 'block' : 'none';\n",
              "\n",
              "        async function convertToInteractive(key) {\n",
              "          const element = document.querySelector('#df-1147c942-844e-4edf-b548-4039db110d9a');\n",
              "          const dataTable =\n",
              "            await google.colab.kernel.invokeFunction('convertToInteractive',\n",
              "                                                     [key], {});\n",
              "          if (!dataTable) return;\n",
              "\n",
              "          const docLinkHtml = 'Like what you see? Visit the ' +\n",
              "            '<a target=\"_blank\" href=https://colab.research.google.com/notebooks/data_table.ipynb>data table notebook</a>'\n",
              "            + ' to learn more about interactive tables.';\n",
              "          element.innerHTML = '';\n",
              "          dataTable['output_type'] = 'display_data';\n",
              "          await google.colab.output.renderOutput(dataTable, element);\n",
              "          const docLink = document.createElement('div');\n",
              "          docLink.innerHTML = docLinkHtml;\n",
              "          element.appendChild(docLink);\n",
              "        }\n",
              "      </script>\n",
              "    </div>\n",
              "  </div>\n",
              "  "
            ]
          },
          "metadata": {},
          "execution_count": 7
        }
      ]
    },
    {
      "cell_type": "code",
      "source": [
        "#Reemplazando nombre de columna\n",
        "df.rename(columns={'Cartera atrasada %':'CARTERA MOROSA', 'Creditos directos (en miles de soles)':'TOTAL CREDITOS', 'Creditos Atrasados ( en miles de soles)':'CARTERA MOROSA (soles)','N° Deudores':'DEUDORES','Tipo de cambio contable':'TIPO DE CAMBIO','TAMN (%)':'TAMN'}, inplace=True)\n",
        "df.head()"
      ],
      "metadata": {
        "colab": {
          "base_uri": "https://localhost:8080/",
          "height": 206
        },
        "id": "pHHAlyJA_cIo",
        "outputId": "527f792f-cc12-4c5c-e313-ae0f6f240eec"
      },
      "execution_count": null,
      "outputs": [
        {
          "output_type": "execute_result",
          "data": {
            "text/plain": [
              "         Mes  CARTERA MOROSA  TOTAL CREDITOS  CARTERA MOROSA (soles)  \\\n",
              "0 2016-01-31        3.007696    2.551862e+08              7675225.94   \n",
              "1 2016-02-29        3.074234    2.566469e+08              7889925.46   \n",
              "2 2016-03-31        3.078675    2.545001e+08              7835230.37   \n",
              "3 2016-04-30        3.133153    2.552712e+08              7998037.33   \n",
              "4 2016-05-31        3.236347    2.567675e+08              8309887.17   \n",
              "\n",
              "   DEUDORES  TIPO DE CAMBIO         IPC       TAMN  \n",
              "0   6229267           3.470  122.229583  16.235806  \n",
              "1   6323478           3.524  122.442374  16.129310  \n",
              "2   6218158           3.326  123.174724  16.054839  \n",
              "3   6252687           3.273  123.188774  15.987333  \n",
              "4   6263044           3.372  123.446933  16.020000  "
            ],
            "text/html": [
              "\n",
              "  <div id=\"df-66de41b1-3dcc-4614-8b75-94012daec2b1\">\n",
              "    <div class=\"colab-df-container\">\n",
              "      <div>\n",
              "<style scoped>\n",
              "    .dataframe tbody tr th:only-of-type {\n",
              "        vertical-align: middle;\n",
              "    }\n",
              "\n",
              "    .dataframe tbody tr th {\n",
              "        vertical-align: top;\n",
              "    }\n",
              "\n",
              "    .dataframe thead th {\n",
              "        text-align: right;\n",
              "    }\n",
              "</style>\n",
              "<table border=\"1\" class=\"dataframe\">\n",
              "  <thead>\n",
              "    <tr style=\"text-align: right;\">\n",
              "      <th></th>\n",
              "      <th>Mes</th>\n",
              "      <th>CARTERA MOROSA</th>\n",
              "      <th>TOTAL CREDITOS</th>\n",
              "      <th>CARTERA MOROSA (soles)</th>\n",
              "      <th>DEUDORES</th>\n",
              "      <th>TIPO DE CAMBIO</th>\n",
              "      <th>IPC</th>\n",
              "      <th>TAMN</th>\n",
              "    </tr>\n",
              "  </thead>\n",
              "  <tbody>\n",
              "    <tr>\n",
              "      <th>0</th>\n",
              "      <td>2016-01-31</td>\n",
              "      <td>3.007696</td>\n",
              "      <td>2.551862e+08</td>\n",
              "      <td>7675225.94</td>\n",
              "      <td>6229267</td>\n",
              "      <td>3.470</td>\n",
              "      <td>122.229583</td>\n",
              "      <td>16.235806</td>\n",
              "    </tr>\n",
              "    <tr>\n",
              "      <th>1</th>\n",
              "      <td>2016-02-29</td>\n",
              "      <td>3.074234</td>\n",
              "      <td>2.566469e+08</td>\n",
              "      <td>7889925.46</td>\n",
              "      <td>6323478</td>\n",
              "      <td>3.524</td>\n",
              "      <td>122.442374</td>\n",
              "      <td>16.129310</td>\n",
              "    </tr>\n",
              "    <tr>\n",
              "      <th>2</th>\n",
              "      <td>2016-03-31</td>\n",
              "      <td>3.078675</td>\n",
              "      <td>2.545001e+08</td>\n",
              "      <td>7835230.37</td>\n",
              "      <td>6218158</td>\n",
              "      <td>3.326</td>\n",
              "      <td>123.174724</td>\n",
              "      <td>16.054839</td>\n",
              "    </tr>\n",
              "    <tr>\n",
              "      <th>3</th>\n",
              "      <td>2016-04-30</td>\n",
              "      <td>3.133153</td>\n",
              "      <td>2.552712e+08</td>\n",
              "      <td>7998037.33</td>\n",
              "      <td>6252687</td>\n",
              "      <td>3.273</td>\n",
              "      <td>123.188774</td>\n",
              "      <td>15.987333</td>\n",
              "    </tr>\n",
              "    <tr>\n",
              "      <th>4</th>\n",
              "      <td>2016-05-31</td>\n",
              "      <td>3.236347</td>\n",
              "      <td>2.567675e+08</td>\n",
              "      <td>8309887.17</td>\n",
              "      <td>6263044</td>\n",
              "      <td>3.372</td>\n",
              "      <td>123.446933</td>\n",
              "      <td>16.020000</td>\n",
              "    </tr>\n",
              "  </tbody>\n",
              "</table>\n",
              "</div>\n",
              "      <button class=\"colab-df-convert\" onclick=\"convertToInteractive('df-66de41b1-3dcc-4614-8b75-94012daec2b1')\"\n",
              "              title=\"Convert this dataframe to an interactive table.\"\n",
              "              style=\"display:none;\">\n",
              "        \n",
              "  <svg xmlns=\"http://www.w3.org/2000/svg\" height=\"24px\"viewBox=\"0 0 24 24\"\n",
              "       width=\"24px\">\n",
              "    <path d=\"M0 0h24v24H0V0z\" fill=\"none\"/>\n",
              "    <path d=\"M18.56 5.44l.94 2.06.94-2.06 2.06-.94-2.06-.94-.94-2.06-.94 2.06-2.06.94zm-11 1L8.5 8.5l.94-2.06 2.06-.94-2.06-.94L8.5 2.5l-.94 2.06-2.06.94zm10 10l.94 2.06.94-2.06 2.06-.94-2.06-.94-.94-2.06-.94 2.06-2.06.94z\"/><path d=\"M17.41 7.96l-1.37-1.37c-.4-.4-.92-.59-1.43-.59-.52 0-1.04.2-1.43.59L10.3 9.45l-7.72 7.72c-.78.78-.78 2.05 0 2.83L4 21.41c.39.39.9.59 1.41.59.51 0 1.02-.2 1.41-.59l7.78-7.78 2.81-2.81c.8-.78.8-2.07 0-2.86zM5.41 20L4 18.59l7.72-7.72 1.47 1.35L5.41 20z\"/>\n",
              "  </svg>\n",
              "      </button>\n",
              "      \n",
              "  <style>\n",
              "    .colab-df-container {\n",
              "      display:flex;\n",
              "      flex-wrap:wrap;\n",
              "      gap: 12px;\n",
              "    }\n",
              "\n",
              "    .colab-df-convert {\n",
              "      background-color: #E8F0FE;\n",
              "      border: none;\n",
              "      border-radius: 50%;\n",
              "      cursor: pointer;\n",
              "      display: none;\n",
              "      fill: #1967D2;\n",
              "      height: 32px;\n",
              "      padding: 0 0 0 0;\n",
              "      width: 32px;\n",
              "    }\n",
              "\n",
              "    .colab-df-convert:hover {\n",
              "      background-color: #E2EBFA;\n",
              "      box-shadow: 0px 1px 2px rgba(60, 64, 67, 0.3), 0px 1px 3px 1px rgba(60, 64, 67, 0.15);\n",
              "      fill: #174EA6;\n",
              "    }\n",
              "\n",
              "    [theme=dark] .colab-df-convert {\n",
              "      background-color: #3B4455;\n",
              "      fill: #D2E3FC;\n",
              "    }\n",
              "\n",
              "    [theme=dark] .colab-df-convert:hover {\n",
              "      background-color: #434B5C;\n",
              "      box-shadow: 0px 1px 3px 1px rgba(0, 0, 0, 0.15);\n",
              "      filter: drop-shadow(0px 1px 2px rgba(0, 0, 0, 0.3));\n",
              "      fill: #FFFFFF;\n",
              "    }\n",
              "  </style>\n",
              "\n",
              "      <script>\n",
              "        const buttonEl =\n",
              "          document.querySelector('#df-66de41b1-3dcc-4614-8b75-94012daec2b1 button.colab-df-convert');\n",
              "        buttonEl.style.display =\n",
              "          google.colab.kernel.accessAllowed ? 'block' : 'none';\n",
              "\n",
              "        async function convertToInteractive(key) {\n",
              "          const element = document.querySelector('#df-66de41b1-3dcc-4614-8b75-94012daec2b1');\n",
              "          const dataTable =\n",
              "            await google.colab.kernel.invokeFunction('convertToInteractive',\n",
              "                                                     [key], {});\n",
              "          if (!dataTable) return;\n",
              "\n",
              "          const docLinkHtml = 'Like what you see? Visit the ' +\n",
              "            '<a target=\"_blank\" href=https://colab.research.google.com/notebooks/data_table.ipynb>data table notebook</a>'\n",
              "            + ' to learn more about interactive tables.';\n",
              "          element.innerHTML = '';\n",
              "          dataTable['output_type'] = 'display_data';\n",
              "          await google.colab.output.renderOutput(dataTable, element);\n",
              "          const docLink = document.createElement('div');\n",
              "          docLink.innerHTML = docLinkHtml;\n",
              "          element.appendChild(docLink);\n",
              "        }\n",
              "      </script>\n",
              "    </div>\n",
              "  </div>\n",
              "  "
            ]
          },
          "metadata": {},
          "execution_count": 8
        }
      ]
    },
    {
      "cell_type": "code",
      "source": [
        "#Borrando columnas rango, codigo, contenedor y glosa\n",
        "df.drop([\"TOTAL CREDITOS\",\"CARTERA MOROSA (soles)\"], axis = 1, inplace=True)"
      ],
      "metadata": {
        "id": "uN0RuLqRuKnd"
      },
      "execution_count": null,
      "outputs": []
    },
    {
      "cell_type": "code",
      "source": [
        "#Analisis descriptivo\n",
        "df.describe()"
      ],
      "metadata": {
        "colab": {
          "base_uri": "https://localhost:8080/",
          "height": 300
        },
        "id": "8B6O5tReas58",
        "outputId": "085ad373-532e-4a5b-e1d1-eebb8b0eb401"
      },
      "execution_count": null,
      "outputs": [
        {
          "output_type": "execute_result",
          "data": {
            "text/plain": [
              "       CARTERA MOROSA      DEUDORES  TIPO DE CAMBIO         IPC       TAMN\n",
              "count       60.000000  6.000000e+01        60.00000   60.000000  60.000000\n",
              "mean         3.433022  6.878616e+06         3.35280  129.230640  15.020816\n",
              "std          0.203989  3.979611e+05         0.10529    3.678189   1.540550\n",
              "min          3.007696  6.218158e+06         3.21600  122.229583  12.100968\n",
              "25%          3.321849  6.546209e+06         3.27175  127.148851  14.162234\n",
              "50%          3.437855  6.910685e+06         3.33000  129.058724  14.496774\n",
              "75%          3.499356  7.201432e+06         3.39525  132.161596  16.384194\n",
              "max          4.185808  7.579127e+06         3.62100  135.317902  17.765806"
            ],
            "text/html": [
              "\n",
              "  <div id=\"df-1162d451-b570-4a09-ba7c-0954eb7e323c\">\n",
              "    <div class=\"colab-df-container\">\n",
              "      <div>\n",
              "<style scoped>\n",
              "    .dataframe tbody tr th:only-of-type {\n",
              "        vertical-align: middle;\n",
              "    }\n",
              "\n",
              "    .dataframe tbody tr th {\n",
              "        vertical-align: top;\n",
              "    }\n",
              "\n",
              "    .dataframe thead th {\n",
              "        text-align: right;\n",
              "    }\n",
              "</style>\n",
              "<table border=\"1\" class=\"dataframe\">\n",
              "  <thead>\n",
              "    <tr style=\"text-align: right;\">\n",
              "      <th></th>\n",
              "      <th>CARTERA MOROSA</th>\n",
              "      <th>DEUDORES</th>\n",
              "      <th>TIPO DE CAMBIO</th>\n",
              "      <th>IPC</th>\n",
              "      <th>TAMN</th>\n",
              "    </tr>\n",
              "  </thead>\n",
              "  <tbody>\n",
              "    <tr>\n",
              "      <th>count</th>\n",
              "      <td>60.000000</td>\n",
              "      <td>6.000000e+01</td>\n",
              "      <td>60.00000</td>\n",
              "      <td>60.000000</td>\n",
              "      <td>60.000000</td>\n",
              "    </tr>\n",
              "    <tr>\n",
              "      <th>mean</th>\n",
              "      <td>3.433022</td>\n",
              "      <td>6.878616e+06</td>\n",
              "      <td>3.35280</td>\n",
              "      <td>129.230640</td>\n",
              "      <td>15.020816</td>\n",
              "    </tr>\n",
              "    <tr>\n",
              "      <th>std</th>\n",
              "      <td>0.203989</td>\n",
              "      <td>3.979611e+05</td>\n",
              "      <td>0.10529</td>\n",
              "      <td>3.678189</td>\n",
              "      <td>1.540550</td>\n",
              "    </tr>\n",
              "    <tr>\n",
              "      <th>min</th>\n",
              "      <td>3.007696</td>\n",
              "      <td>6.218158e+06</td>\n",
              "      <td>3.21600</td>\n",
              "      <td>122.229583</td>\n",
              "      <td>12.100968</td>\n",
              "    </tr>\n",
              "    <tr>\n",
              "      <th>25%</th>\n",
              "      <td>3.321849</td>\n",
              "      <td>6.546209e+06</td>\n",
              "      <td>3.27175</td>\n",
              "      <td>127.148851</td>\n",
              "      <td>14.162234</td>\n",
              "    </tr>\n",
              "    <tr>\n",
              "      <th>50%</th>\n",
              "      <td>3.437855</td>\n",
              "      <td>6.910685e+06</td>\n",
              "      <td>3.33000</td>\n",
              "      <td>129.058724</td>\n",
              "      <td>14.496774</td>\n",
              "    </tr>\n",
              "    <tr>\n",
              "      <th>75%</th>\n",
              "      <td>3.499356</td>\n",
              "      <td>7.201432e+06</td>\n",
              "      <td>3.39525</td>\n",
              "      <td>132.161596</td>\n",
              "      <td>16.384194</td>\n",
              "    </tr>\n",
              "    <tr>\n",
              "      <th>max</th>\n",
              "      <td>4.185808</td>\n",
              "      <td>7.579127e+06</td>\n",
              "      <td>3.62100</td>\n",
              "      <td>135.317902</td>\n",
              "      <td>17.765806</td>\n",
              "    </tr>\n",
              "  </tbody>\n",
              "</table>\n",
              "</div>\n",
              "      <button class=\"colab-df-convert\" onclick=\"convertToInteractive('df-1162d451-b570-4a09-ba7c-0954eb7e323c')\"\n",
              "              title=\"Convert this dataframe to an interactive table.\"\n",
              "              style=\"display:none;\">\n",
              "        \n",
              "  <svg xmlns=\"http://www.w3.org/2000/svg\" height=\"24px\"viewBox=\"0 0 24 24\"\n",
              "       width=\"24px\">\n",
              "    <path d=\"M0 0h24v24H0V0z\" fill=\"none\"/>\n",
              "    <path d=\"M18.56 5.44l.94 2.06.94-2.06 2.06-.94-2.06-.94-.94-2.06-.94 2.06-2.06.94zm-11 1L8.5 8.5l.94-2.06 2.06-.94-2.06-.94L8.5 2.5l-.94 2.06-2.06.94zm10 10l.94 2.06.94-2.06 2.06-.94-2.06-.94-.94-2.06-.94 2.06-2.06.94z\"/><path d=\"M17.41 7.96l-1.37-1.37c-.4-.4-.92-.59-1.43-.59-.52 0-1.04.2-1.43.59L10.3 9.45l-7.72 7.72c-.78.78-.78 2.05 0 2.83L4 21.41c.39.39.9.59 1.41.59.51 0 1.02-.2 1.41-.59l7.78-7.78 2.81-2.81c.8-.78.8-2.07 0-2.86zM5.41 20L4 18.59l7.72-7.72 1.47 1.35L5.41 20z\"/>\n",
              "  </svg>\n",
              "      </button>\n",
              "      \n",
              "  <style>\n",
              "    .colab-df-container {\n",
              "      display:flex;\n",
              "      flex-wrap:wrap;\n",
              "      gap: 12px;\n",
              "    }\n",
              "\n",
              "    .colab-df-convert {\n",
              "      background-color: #E8F0FE;\n",
              "      border: none;\n",
              "      border-radius: 50%;\n",
              "      cursor: pointer;\n",
              "      display: none;\n",
              "      fill: #1967D2;\n",
              "      height: 32px;\n",
              "      padding: 0 0 0 0;\n",
              "      width: 32px;\n",
              "    }\n",
              "\n",
              "    .colab-df-convert:hover {\n",
              "      background-color: #E2EBFA;\n",
              "      box-shadow: 0px 1px 2px rgba(60, 64, 67, 0.3), 0px 1px 3px 1px rgba(60, 64, 67, 0.15);\n",
              "      fill: #174EA6;\n",
              "    }\n",
              "\n",
              "    [theme=dark] .colab-df-convert {\n",
              "      background-color: #3B4455;\n",
              "      fill: #D2E3FC;\n",
              "    }\n",
              "\n",
              "    [theme=dark] .colab-df-convert:hover {\n",
              "      background-color: #434B5C;\n",
              "      box-shadow: 0px 1px 3px 1px rgba(0, 0, 0, 0.15);\n",
              "      filter: drop-shadow(0px 1px 2px rgba(0, 0, 0, 0.3));\n",
              "      fill: #FFFFFF;\n",
              "    }\n",
              "  </style>\n",
              "\n",
              "      <script>\n",
              "        const buttonEl =\n",
              "          document.querySelector('#df-1162d451-b570-4a09-ba7c-0954eb7e323c button.colab-df-convert');\n",
              "        buttonEl.style.display =\n",
              "          google.colab.kernel.accessAllowed ? 'block' : 'none';\n",
              "\n",
              "        async function convertToInteractive(key) {\n",
              "          const element = document.querySelector('#df-1162d451-b570-4a09-ba7c-0954eb7e323c');\n",
              "          const dataTable =\n",
              "            await google.colab.kernel.invokeFunction('convertToInteractive',\n",
              "                                                     [key], {});\n",
              "          if (!dataTable) return;\n",
              "\n",
              "          const docLinkHtml = 'Like what you see? Visit the ' +\n",
              "            '<a target=\"_blank\" href=https://colab.research.google.com/notebooks/data_table.ipynb>data table notebook</a>'\n",
              "            + ' to learn more about interactive tables.';\n",
              "          element.innerHTML = '';\n",
              "          dataTable['output_type'] = 'display_data';\n",
              "          await google.colab.output.renderOutput(dataTable, element);\n",
              "          const docLink = document.createElement('div');\n",
              "          docLink.innerHTML = docLinkHtml;\n",
              "          element.appendChild(docLink);\n",
              "        }\n",
              "      </script>\n",
              "    </div>\n",
              "  </div>\n",
              "  "
            ]
          },
          "metadata": {},
          "execution_count": 10
        }
      ]
    },
    {
      "cell_type": "code",
      "source": [
        "#Ubicando datos nulos por columnas\n",
        "df.isnull().sum()"
      ],
      "metadata": {
        "colab": {
          "base_uri": "https://localhost:8080/"
        },
        "id": "fGaBfPB0a0sc",
        "outputId": "aea16251-ab54-471f-c2bc-cfa04bfbd86a"
      },
      "execution_count": null,
      "outputs": [
        {
          "output_type": "execute_result",
          "data": {
            "text/plain": [
              "Mes               0\n",
              "CARTERA MOROSA    0\n",
              "DEUDORES          0\n",
              "TIPO DE CAMBIO    0\n",
              "IPC               0\n",
              "TAMN              0\n",
              "dtype: int64"
            ]
          },
          "metadata": {},
          "execution_count": 11
        }
      ]
    },
    {
      "cell_type": "code",
      "source": [
        "#Diccionario de datos\n",
        "df.columns"
      ],
      "metadata": {
        "colab": {
          "base_uri": "https://localhost:8080/"
        },
        "id": "15UYnS6Ja24Q",
        "outputId": "a9164d57-7ff1-419e-99e4-c956317e50d5"
      },
      "execution_count": null,
      "outputs": [
        {
          "output_type": "execute_result",
          "data": {
            "text/plain": [
              "Index(['Mes', 'CARTERA MOROSA', 'DEUDORES', 'TIPO DE CAMBIO', 'IPC', 'TAMN'], dtype='object')"
            ]
          },
          "metadata": {},
          "execution_count": 12
        }
      ]
    },
    {
      "cell_type": "code",
      "source": [
        "df.dtypes"
      ],
      "metadata": {
        "colab": {
          "base_uri": "https://localhost:8080/"
        },
        "id": "kkyx7-DwQlav",
        "outputId": "b2a5bc4b-1d4b-4056-fd42-9e22f50a8b40"
      },
      "execution_count": null,
      "outputs": [
        {
          "output_type": "execute_result",
          "data": {
            "text/plain": [
              "Mes               datetime64[ns]\n",
              "CARTERA MOROSA           float64\n",
              "DEUDORES                   int64\n",
              "TIPO DE CAMBIO           float64\n",
              "IPC                      float64\n",
              "TAMN                     float64\n",
              "dtype: object"
            ]
          },
          "metadata": {},
          "execution_count": 13
        }
      ]
    },
    {
      "cell_type": "markdown",
      "source": [
        "ANALISIS DE VARIABLES"
      ],
      "metadata": {
        "id": "cj2AVFiZr7Oy"
      }
    },
    {
      "cell_type": "code",
      "source": [
        "sns.displot(data=df,x=\"CARTERA MOROSA\",kde=True)"
      ],
      "metadata": {
        "colab": {
          "base_uri": "https://localhost:8080/",
          "height": 386
        },
        "id": "y4c7xyPjWOEE",
        "outputId": "f9c4c687-2d2b-4501-dbe0-c13d8f434ac5"
      },
      "execution_count": null,
      "outputs": [
        {
          "output_type": "execute_result",
          "data": {
            "text/plain": [
              "<seaborn.axisgrid.FacetGrid at 0x7f0692d53c10>"
            ]
          },
          "metadata": {},
          "execution_count": 14
        },
        {
          "output_type": "display_data",
          "data": {
            "text/plain": [
              "<Figure size 360x360 with 1 Axes>"
            ],
            "image/png": "[encoded data removed]"
          },
          "metadata": {
            "needs_background": "light"
          }
        }
      ]
    },
    {
      "cell_type": "code",
      "source": [
        "df_cleaned= df.loc[(df['CARTERA MOROSA']>3.2) & (df['CARTERA MOROSA']<=3.6)]"
      ],
      "metadata": {
        "id": "qpfLhhVsVv2d"
      },
      "execution_count": null,
      "outputs": []
    },
    {
      "cell_type": "code",
      "source": [
        "sns.displot(data=df_cleaned,x=\"CARTERA MOROSA\",kde=True)"
      ],
      "metadata": {
        "colab": {
          "base_uri": "https://localhost:8080/",
          "height": 386
        },
        "id": "7oYRKF4scTZt",
        "outputId": "adacc2c8-a672-48f0-e634-be5733a6e005"
      },
      "execution_count": null,
      "outputs": [
        {
          "output_type": "execute_result",
          "data": {
            "text/plain": [
              "<seaborn.axisgrid.FacetGrid at 0x7f068040ef10>"
            ]
          },
          "metadata": {},
          "execution_count": 53
        },
        {
          "output_type": "display_data",
          "data": {
            "text/plain": [
              "<Figure size 360x360 with 1 Axes>"
            ],
            "image/png": "[encoded data removed]"
          },
          "metadata": {
            "needs_background": "light"
          }
        }
      ]
    },
    {
      "cell_type": "code",
      "source": [
        "sns.scatterplot(data= df_cleaned,x= \"TAMN\", y= \"CARTERA MOROSA\")"
      ],
      "metadata": {
        "colab": {
          "base_uri": "https://localhost:8080/",
          "height": 296
        },
        "id": "C4Ig4EE0c3WN",
        "outputId": "31a92d71-8735-4fb6-c890-c55bc1e4d767"
      },
      "execution_count": null,
      "outputs": [
        {
          "output_type": "execute_result",
          "data": {
            "text/plain": [
              "<matplotlib.axes._subplots.AxesSubplot at 0x7f068e3311d0>"
            ]
          },
          "metadata": {},
          "execution_count": 17
        },
        {
          "output_type": "display_data",
          "data": {
            "text/plain": [
              "<Figure size 432x288 with 1 Axes>"
            ],
            "image/png": "[encoded data removed]"
          },
          "metadata": {
            "needs_background": "light"
          }
        }
      ]
    },
    {
      "cell_type": "code",
      "source": [
        "sns.scatterplot(data= df_cleaned,x= \"DEUDORES\", y= \"CARTERA MOROSA\")"
      ],
      "metadata": {
        "colab": {
          "base_uri": "https://localhost:8080/",
          "height": 296
        },
        "id": "NotsL5Q_dEU5",
        "outputId": "eae07262-392d-4db1-833f-89d6b6f42296"
      },
      "execution_count": null,
      "outputs": [
        {
          "output_type": "execute_result",
          "data": {
            "text/plain": [
              "<matplotlib.axes._subplots.AxesSubplot at 0x7f068e2acd90>"
            ]
          },
          "metadata": {},
          "execution_count": 18
        },
        {
          "output_type": "display_data",
          "data": {
            "text/plain": [
              "<Figure size 432x288 with 1 Axes>"
            ],
            "image/png": "[encoded data removed]"
          },
          "metadata": {
            "needs_background": "light"
          }
        }
      ]
    },
    {
      "cell_type": "code",
      "source": [
        "sns.scatterplot(data= df_cleaned,x= \"IPC\", y= \"CARTERA MOROSA\")"
      ],
      "metadata": {
        "colab": {
          "base_uri": "https://localhost:8080/",
          "height": 296
        },
        "id": "-mrptW8adRAq",
        "outputId": "24bd3660-1850-4ec4-b800-286af898139d"
      },
      "execution_count": null,
      "outputs": [
        {
          "output_type": "execute_result",
          "data": {
            "text/plain": [
              "<matplotlib.axes._subplots.AxesSubplot at 0x7f068e2861d0>"
            ]
          },
          "metadata": {},
          "execution_count": 19
        },
        {
          "output_type": "display_data",
          "data": {
            "text/plain": [
              "<Figure size 432x288 with 1 Axes>"
            ],
            "image/png": "[encoded data removed]"
          },
          "metadata": {
            "needs_background": "light"
          }
        }
      ]
    },
    {
      "cell_type": "code",
      "source": [
        "sns.scatterplot(data= df_cleaned,x= \"TIPO DE CAMBIO\", y= \"CARTERA MOROSA\")"
      ],
      "metadata": {
        "colab": {
          "base_uri": "https://localhost:8080/",
          "height": 296
        },
        "id": "F01AScGOdiCe",
        "outputId": "f4d6613a-d9e2-4ce1-d977-ad3fb8775333"
      },
      "execution_count": null,
      "outputs": [
        {
          "output_type": "execute_result",
          "data": {
            "text/plain": [
              "<matplotlib.axes._subplots.AxesSubplot at 0x7f068e2b1a10>"
            ]
          },
          "metadata": {},
          "execution_count": 20
        },
        {
          "output_type": "display_data",
          "data": {
            "text/plain": [
              "<Figure size 432x288 with 1 Axes>"
            ],
            "image/png": "[encoded data removed]"
          },
          "metadata": {
            "needs_background": "light"
          }
        }
      ]
    },
    {
      "cell_type": "code",
      "source": [
        "!pip install statsmodels==0.13.0\n",
        "import statsmodels.api as sm"
      ],
      "metadata": {
        "colab": {
          "base_uri": "https://localhost:8080/"
        },
        "id": "5i-nKTymnCvA",
        "outputId": "9511aad3-54ec-49ed-ce54-2d995f742826"
      },
      "execution_count": null,
      "outputs": [
        {
          "output_type": "stream",
          "name": "stdout",
          "text": [
            "Looking in indexes: https://pypi.org/simple, https://us-python.pkg.dev/colab-wheels/public/simple/\n",
            "Requirement already satisfied: statsmodels==0.13.0 in /usr/local/lib/python3.7/dist-packages (0.13.0)\n",
            "Requirement already satisfied: numpy>=1.17 in /usr/local/lib/python3.7/dist-packages (from statsmodels==0.13.0) (1.21.6)\n",
            "Requirement already satisfied: pandas>=0.25 in /usr/local/lib/python3.7/dist-packages (from statsmodels==0.13.0) (1.3.5)\n",
            "Requirement already satisfied: scipy>=1.3 in /usr/local/lib/python3.7/dist-packages (from statsmodels==0.13.0) (1.7.3)\n",
            "Requirement already satisfied: patsy>=0.5.2 in /usr/local/lib/python3.7/dist-packages (from statsmodels==0.13.0) (0.5.2)\n",
            "Requirement already satisfied: pytz>=2017.3 in /usr/local/lib/python3.7/dist-packages (from pandas>=0.25->statsmodels==0.13.0) (2022.1)\n",
            "Requirement already satisfied: python-dateutil>=2.7.3 in /usr/local/lib/python3.7/dist-packages (from pandas>=0.25->statsmodels==0.13.0) (2.8.2)\n",
            "Requirement already satisfied: six in /usr/local/lib/python3.7/dist-packages (from patsy>=0.5.2->statsmodels==0.13.0) (1.15.0)\n"
          ]
        }
      ]
    },
    {
      "cell_type": "code",
      "source": [
        "y_train = df['CARTERA MOROSA']\n",
        "x_train = df[['DEUDORES', 'IPC', 'TAMN']]\n",
        "x_train = sm.add_constant(x_train)"
      ],
      "metadata": {
        "id": "ki3OcUJFGgZU"
      },
      "execution_count": null,
      "outputs": []
    },
    {
      "cell_type": "code",
      "source": [
        "modelo = sm.OLS(y_train,x_train)\n",
        "Rest = modelo.fit()\n",
        "print(Rest.summary())"
      ],
      "metadata": {
        "colab": {
          "base_uri": "https://localhost:8080/"
        },
        "id": "EsUZDwJLjTLP",
        "outputId": "bd40553b-7449-477f-815a-5748282e52ad"
      },
      "execution_count": null,
      "outputs": [
        {
          "output_type": "stream",
          "name": "stdout",
          "text": [
            "                            OLS Regression Results                            \n",
            "==============================================================================\n",
            "Dep. Variable:         CARTERA MOROSA   R-squared:                       0.654\n",
            "Model:                            OLS   Adj. R-squared:                  0.636\n",
            "Method:                 Least Squares   F-statistic:                     35.31\n",
            "Date:                Thu, 30 Jun 2022   Prob (F-statistic):           6.05e-13\n",
            "Time:                        18:18:56   Log-Likelihood:                 42.603\n",
            "No. Observations:                  60   AIC:                            -77.21\n",
            "Df Residuals:                      56   BIC:                            -68.83\n",
            "Df Model:                           3                                         \n",
            "Covariance Type:            nonrobust                                         \n",
            "==============================================================================\n",
            "                 coef    std err          t      P>|t|      [0.025      0.975]\n",
            "------------------------------------------------------------------------------\n",
            "const         -3.7648      1.516     -2.484      0.016      -6.801      -0.728\n",
            "DEUDORES   -2.928e-07   1.24e-07     -2.357      0.022   -5.42e-07   -4.39e-08\n",
            "IPC            0.0719      0.015      4.798      0.000       0.042       0.102\n",
            "TAMN          -0.0050      0.019     -0.256      0.799      -0.044       0.034\n",
            "==============================================================================\n",
            "Omnibus:                        6.954   Durbin-Watson:                   0.737\n",
            "Prob(Omnibus):                  0.031   Jarque-Bera (JB):               11.811\n",
            "Skew:                           0.142   Prob(JB):                      0.00272\n",
            "Kurtosis:                       5.155   Cond. No.                     6.57e+08\n",
            "==============================================================================\n",
            "\n",
            "Notes:\n",
            "[1] Standard Errors assume that the covariance matrix of the errors is correctly specified.\n",
            "[2] The condition number is large, 6.57e+08. This might indicate that there are\n",
            "strong multicollinearity or other numerical problems.\n"
          ]
        }
      ]
    },
    {
      "cell_type": "code",
      "source": [
        "sns.heatmap(df[['CARTERA MOROSA','DEUDORES','IPC','TAMN']].corr())"
      ],
      "metadata": {
        "id": "LuYSSBIojGTC",
        "colab": {
          "base_uri": "https://localhost:8080/",
          "height": 369
        },
        "outputId": "88f0b2dc-824e-44ed-d11d-aac8943e1a56"
      },
      "execution_count": null,
      "outputs": [
        {
          "output_type": "execute_result",
          "data": {
            "text/plain": [
              "<matplotlib.axes._subplots.AxesSubplot at 0x7f0680d4ad10>"
            ]
          },
          "metadata": {},
          "execution_count": 25
        },
        {
          "output_type": "display_data",
          "data": {
            "text/plain": [
              "<Figure size 432x288 with 2 Axes>"
            ],
            "image/png": "[encoded data removed]"
          },
          "metadata": {
            "needs_background": "light"
          }
        }
      ]
    }
  ]
}